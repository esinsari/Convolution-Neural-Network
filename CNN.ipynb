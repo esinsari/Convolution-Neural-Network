{
  "nbformat": 4,
  "nbformat_minor": 0,
  "metadata": {
    "coursera": {
      "course_slug": "neural-networks-deep-learning",
      "graded_item_id": "XaIWT",
      "launcher_item_id": "zAgPl"
    },
    "kernelspec": {
      "display_name": "Python 3",
      "language": "python",
      "name": "python3"
    },
    "language_info": {
      "codemirror_mode": {
        "name": "ipython",
        "version": 3
      },
      "file_extension": ".py",
      "mimetype": "text/x-python",
      "name": "python",
      "nbconvert_exporter": "python",
      "pygments_lexer": "ipython3",
      "version": "3.8.3"
    },
    "colab": {
      "name": "Homework_03.ipynb",
      "provenance": [],
      "collapsed_sections": []
    },
    "accelerator": "GPU"
  },
  "cells": [
    {
      "cell_type": "markdown",
      "metadata": {
        "id": "N1OeGCjU-faJ"
      },
      "source": [
        "# Convolution Neural Network \n",
        "\n",
        "Image processsing and implement convolution neural networks - LeNet-5 . \\\n",
        "\n",
        "**Runtime Type: GPU**\n",
        "\n",
        "**Task Overview:**\n",
        "- Basic operations for Digital Image Processing (DIP)\n",
        "- LeNet-5"
      ]
    },
    {
      "cell_type": "markdown",
      "metadata": {
        "id": "fUOKI6Zo-faL"
      },
      "source": [
        "## 1 - Basic Image Processing ##\n",
        "### 1.1 Data Preparation \n",
        "\n",
        "Import useful packages and prepare image data as an array for image processing. \n",
        "\n",
        "\n",
        "References:\n",
        "- [numpy](www.numpy.org) is the fundamental package for scientific computing with Python.\n",
        "- [imageio](https://imageio.github.io/) is a python library for basic image reading and writing.\n",
        "\n",
        "\n",
        "Image data \"./image.jpg\".\n"
      ]
    },
    {
      "cell_type": "code",
      "metadata": {
        "id": "CGDpjfXf-faN",
        "colab": {
          "base_uri": "https://localhost:8080/",
          "height": 1000
        },
        "outputId": "c81b504b-6d11-4475-e782-f843b008e11f"
      },
      "source": [
        "# Import useful libraries\n",
        "import numpy as np\n",
        "import imageio\n",
        "from IPython.display import Image, display\n",
        "import matplotlib.pyplot as plt \n",
        " \n",
        "# Display original image\n",
        "display(Image(filename = \"image.jpg\"))\n",
        "\n",
        "\n",
        "# Convert image to array, print out the shape of array, and print out the entire array\n",
        "img = imageio.imread('image.jpg') \n",
        "print (\"Shape of array \", img.shape)\n",
        "print(\"Entire array\")\n",
        "print(img)\n"
      ],
      "execution_count": null,
      "outputs": [
        {
          "output_type": "display_data",
          "data": {
            "image/jpeg": "[encoded data removed]",
            "text/plain": [
              "<IPython.core.display.Image object>"
            ]
          },
          "metadata": {
            "tags": []
          }
        },
        {
          "output_type": "stream",
          "text": [
            "Shape of array  (30, 30)\n",
            "Entire array\n",
            "[[ 98  89  78 112  90  93 158 112 122 117 107 121  90  75  67  93  73  67\n",
            "   96 152 167 151 166 154 134 105  53  51  55  44]\n",
            " [ 34  31  51  38  16  50 195 161 138 173 200 209 194 206 222 237 223 195\n",
            "  177 185 167 160 166 169 136  98  49  54  55  35]\n",
            " [ 78  84  94  71  81  69 190 204 233 240 249 234 232 241 250 235 235 236\n",
            "  224 194 169 181 170 162 121  95  55  49  52  47]\n",
            " [ 79  58  90 127 103 137 253 244 254 222 223 219 235 228 232 206 201 215\n",
            "  201 106 105 137 169 173 124  81  45  49  59  53]\n",
            " [ 31  75  44  81  89 191 242 255 228 208 231 233 236 222 227 199 177 192\n",
            "  208 104 137 109 170 194 159  88  44  54  63  46]\n",
            " [ 85  66  51 145 129 225 239 206 242 233 247 231 210 218 232 202 190 173\n",
            "  181  95 146  39 132 199 178 145 103  53  44  65]\n",
            " [ 81  60  76 178 216 214 209 230 240 229 230 211 157 176 214 218 185 186\n",
            "  198 154 203  33 100 157 157 179 162  72  39  78]\n",
            " [104  89 152 176 168 117 182 226 242 235 238 207  82  50  94 145 136 157\n",
            "  148 119 175  30 111 165 136 155 168 110  60  56]\n",
            " [ 95  39 181 160  91  13 180 237 240 242 221 102  24   7  19  12  38  95\n",
            "  101 142 155  30  89  91 107 145 161 113  60  53]\n",
            " [ 18  54 186 144 147  99 248 238 235 227 210 115  62  57  74  72  85  82\n",
            "   91 182  83  56  68  59 129 113 133 129 116  67]\n",
            " [ 84  79 201 132 185 229 217 206 210 188 188 155 160 169 164 141 111  70\n",
            "  126 154  49  40  69  73 104  85 120 132 158 125]\n",
            " [201 161 135 153 174 219 204 197 209 178 177 146 138 124 114 101  90  85\n",
            "  144 105  81  53  83 104  74  80 122 141 152 133]\n",
            " [162 150 147 212 176 180 190 187 161 107 114 140 191 178 114  49  74 117\n",
            "  112 118  99 114  93  98  96  90 104 139 102  67]\n",
            " [184 138 167 132  90 118 183 214 193 150 148 132 137 130 135 141  96 127\n",
            "  108 140  75 111 113  96 115 101  75  89  42  43]\n",
            " [172 127 105  83  61  34 134 149 188 134 119  97 106 106 115 120 109 107\n",
            "  123 139  70  77 110 103 102  91  67  68  42  61]\n",
            " [139  39  59  55  36  15  27 128 189 123  98  79 100 105 105  97  95  86\n",
            "  105 148  94  95  78  92  93  67  78 110  94  51]\n",
            " [162  27  19  24   2  34  19 104 153  91  88  71 100 151 122 118  98  96\n",
            "   92 143 136  86  92  79  83  64  35  31  61  87]\n",
            " [186 114  41  35  15  20  37  75 101  92  91  86 122 172 147  97  85  96\n",
            "   86 104  88  61  80  64  68  65  37  12  21  38]\n",
            " [183 164  24  17  41  42  75  49  67  80  74  86  98 104 116  99  81 101\n",
            "   90  94  97 116 149 125  69  83  64  30  28  42]\n",
            " [172 207  94  39  34  18  50  52  82  95  92  99  97  86 104 120  82  88\n",
            "   69  66  82 112 126  84  52  66  53  25  20  26]\n",
            " [159 164 106  37  51  56  38  56  62  87 101  90 108 125  99  84  94  90\n",
            "   78  79  86  97  89  48  79  77  59  41  34  27]\n",
            " [179 181 191 103  67  52  28  77  92 109 121 113 129 129  93  93  65  66\n",
            "   77  86  83  79  71  52  55  46  30  24  26  19]\n",
            " [198 178 191 158 154 149 142 139 144 144 109 102 103  73  72  98  89  84\n",
            "   94  92  76  65  51  40  19  21  12   9  19  25]\n",
            " [173 168 176 182 184 172 208 171 198 207 118  91 101  88 107  93 109  92\n",
            "   87  72  55  47  26   6   9  21  14   1   9  19]\n",
            " [180 180 176 177 187 189 165 134 130 188 137 113  70 107  79  61  81  61\n",
            "   47  49  48  30  10   0   4   5   5   5   4   7]\n",
            " [176 177 176 178 186 190 183 172 160 151 124 134 109  74  58  64  56  48\n",
            "   42  37  23   8   8  17   9   9  11  14  18  23]\n",
            " [175 174 176 180 181 185 195 207 179 208 217 168 122  92  94  48  52  34\n",
            "   18  14  12  10  14  21  33  28  23  23  26  28]\n",
            " [179 174 177 182 178 175 189 210 216 220 204 246 134 106  65  57  55  34\n",
            "   14   9  15  21  27  32  54  43  31  29  34  36]\n",
            " [183 176 177 185 182 172 179 196 255 153 188 221 225  84  82  51  42  39\n",
            "   33  25  19  23  41  59  49  37  27  31  47  59]\n",
            " [184 177 179 188 186 177 177 186 242 187 172 247 199 148  91  54  40  35\n",
            "   30  29  34  44  55  63  34  24  18  28  51  71]]\n"
          ],
          "name": "stdout"
        }
      ]
    },
    {
      "cell_type": "markdown",
      "metadata": {
        "id": "HFqOpzwr-faS"
      },
      "source": [
        "### 1.2 Implementation of Convolution Filter\n",
        "\n",
        "Process the obtained array from the image with convolution operation.\n",
        "\n",
        "**Tasks:**\n",
        "1. Prepare a 3X3 Laplacian kernel (aka Laplacial filter) with array as convolution filter.\n",
        "2. Conduct convolution on image with prepared kernel.\n",
        "3. Print out convolution result for first ten rows.\n",
        "4. Print out the shape of the convolution result.\n",
        "5. Display convolution result as image with matplotlib.\n",
        "\n",
        "\n",
        "1. Laplacian kernel is widely used for edge detection. Its form is shown below:\n",
        "2.\n",
        "    2.1 Extract all centriods of processing region for each convolution operation.\\\n",
        "    2.2 According to each centroid, locate all indices of the elements within the local region for each convolution operation.\\\n",
        "    2.3 Given obtained indices, locate pixel values and conduct element-wise product between pixel and kernel values.\\\n",
        "    2.4 Sum element-wise product results and assign the value to convolution result at corresponding location.\\\n",
        "  \n",
        "Validation for first 5X5 array,\n",
        "filtered_results[0:5,0:5] \n",
        "\n",
        "[[ 134.   37.   98.  195.  173.]\\\n",
        " [ -75.  -80.   56.  -65.  182.]\\\n",
        " [  96.  -37. -163.   22.   68.]\\\n",
        " [-101.  121.   81.  148.  -71.]\\\n",
        " [   7.  127. -141.  159. -127.]]"
      ]
    },
    {
      "cell_type": "markdown",
      "metadata": {
        "id": "KGqMBq1C-faS"
      },
      "source": [
        "![image.png](attachment:image.png)"
      ]
    },
    {
      "cell_type": "code",
      "metadata": {
        "id": "ARql7WB9-faT",
        "colab": {
          "base_uri": "https://localhost:8080/",
          "height": 382
        },
        "outputId": "4e930983-bcd9-4eaa-d4f7-ece2c5ad7b4d"
      },
      "source": [
        "######## Convolution with Laplacian Filter ##################\n",
        "\n",
        "kernel = np.array([[0, 1, 0], [1, -4, 1], [0, 1, 0]])\n",
        "size = (img[0].size - kernel[0].size) + 1\n",
        "conv_img = np.zeros([size, size])\n",
        "\n",
        "for i in range(size):\n",
        "  for j in range(size):\n",
        "    conv_img[i][j] = np.sum(kernel * img[i:i+3, j:j+3])\n",
        "\n",
        "print(conv_img[0:5,0:5])\n",
        "\n",
        "print(\"\\nShape of the convolution result\", conv_img.shape)\n",
        "\n",
        "plt.imshow(conv_img) \n",
        "plt.axis('off') \n",
        "plt.title('THE DOG') \n",
        "plt.show() \n",
        "  "
      ],
      "execution_count": null,
      "outputs": [
        {
          "output_type": "stream",
          "text": [
            "[[ 134.   37.   98.  195.  173.]\n",
            " [ -75.  -80.   56.  -65.  182.]\n",
            " [  96.  -37. -163.   22.   68.]\n",
            " [-101.  121.   81.  148.  -71.]\n",
            " [   7.  127. -141.  159. -127.]]\n",
            "\n",
            "Shape of the convolution result (28, 28)\n"
          ],
          "name": "stdout"
        },
        {
          "output_type": "display_data",
          "data": {
            "image/png": "[encoded data removed]",
            "text/plain": [
              "<Figure size 432x288 with 1 Axes>"
            ]
          },
          "metadata": {
            "tags": [],
            "needs_background": "light"
          }
        }
      ]
    },
    {
      "cell_type": "markdown",
      "metadata": {
        "id": "qthq21uu-faW"
      },
      "source": [
        "### 1.3 Modification on Convolution Scheme\n",
        "\n",
        "Conduct the convolution with the same filter as above, but change the stride to \n",
        "\n",
        "1. Reduce the centroid pool according to stride=2.\n",
        "    **Note: After increase of stride, the size of convolution result is further shrinked.**\n",
        "\n",
        "Validation for first 5X5 array, filtered_results[0:5,0:5].\n",
        "\n",
        "[[ 134.   98.  173.    5.    3.]\\\n",
        " [  96. -163.   68.  -10.   37.]\\\n",
        " [   7. -141. -127.  142.   -6.]\\\n",
        " [  -1.  -46.  109.  -13.   11.]\\\n",
        " [ 106.   49.  241.  -26.  -33.]]"
      ]
    },
    {
      "cell_type": "code",
      "metadata": {
        "id": "Fk5XOd70-faW",
        "colab": {
          "base_uri": "https://localhost:8080/",
          "height": 398
        },
        "outputId": "d53477d0-5c06-4e17-c9da-86deb17df3c6"
      },
      "source": [
        "######## Convolution with Laplacian Filter and the setting of stride=2 ##################\n",
        "kernel = np.array([[0, 1, 0], [1, -4, 1], [0, 1, 0]])\n",
        "size = int((img[0].size - kernel[0].size) + 1) / 2\n",
        "conv_img = np.zeros([int(size), int(size)])\n",
        "\n",
        "\n",
        "for i in range(0, len(img) - 2, 2):\n",
        "  for j in range(0, len(img) - 2, 2):\n",
        "    conv_img[int(i/2)][int(j/2)] = np.sum(kernel * img[i:i+3, j:j+3])\n",
        "\n",
        "    \n",
        " \n",
        "print(conv_img[0:5,0:5])\n",
        "\n",
        "print(\"\\nShape of the convolution result\", conv_img.shape)\n",
        "\n",
        "plt.imshow(conv_img) \n",
        "#plt.axis('off') \n",
        "plt.title('THE DOG') \n",
        "plt.show() "
      ],
      "execution_count": null,
      "outputs": [
        {
          "output_type": "stream",
          "text": [
            "[[ 134.   98.  173.    5.    3.]\n",
            " [  96. -163.   68.  -10.   37.]\n",
            " [   7. -141. -127.  142.   -6.]\n",
            " [  -1.  -46.  109.  -13.   11.]\n",
            " [ 106.   49.  241.  -26.  -33.]]\n",
            "\n",
            "Shape of the convolution result (14, 14)\n"
          ],
          "name": "stdout"
        },
        {
          "output_type": "display_data",
          "data": {
            "image/png": "[encoded data removed]",
            "text/plain": [
              "<Figure size 432x288 with 1 Axes>"
            ]
          },
          "metadata": {
            "tags": [],
            "needs_background": "light"
          }
        }
      ]
    },
    {
      "cell_type": "markdown",
      "metadata": {
        "id": "wZaQuyit-faZ"
      },
      "source": [
        "### 1.4 Implementation of MaxPooling\n",
        "\n",
        "Process the obtained array from the image with MaxPooling operation.\n",
        "\n",
        "**Tasks:**\n",
        "1. Prepare a 2X2 pooling mask.\n",
        "2. Conduct max pooing on image with prepared mask.\n",
        "3. Print out convolution result for first ten rows.\n",
        "4. Print out the shape of the convolution result.\n",
        "5. Display convolution result as image with matplotlib.\n",
        "\n",
        "Validation for first 5X5 array, pooled_results[0:5,0:5]\n",
        "\n",
        "[[ 98. 112.  93. 195. 173.]\\\n",
        " [ 84. 127. 137. 253. 254.]\\\n",
        " [ 85. 145. 225. 255. 242.]\\\n",
        " [104. 178. 216. 230. 242.]\\\n",
        " [ 95. 186. 147. 248. 242.]]"
      ]
    },
    {
      "cell_type": "code",
      "metadata": {
        "id": "55epzFiH-faZ",
        "colab": {
          "base_uri": "https://localhost:8080/",
          "height": 398
        },
        "outputId": "e486121f-992e-42b0-d044-65eb1ca92d83"
      },
      "source": [
        "######## MaxPooling with the setting of 2X2 ##################\n",
        "pooling_mask = np.zeros([2,2])\n",
        "size = int((img[0].size - pooling_mask[0].size) + 2)/2\n",
        "pooling_img = np.zeros([int(size), int(size)])\n",
        "\n",
        "for i in range(0, len(img) - 1, 2):\n",
        "  for j in range(0, len(img) - 1, 2):\n",
        "    pooling_img[int(i/2)][int(j/2)] = np.max(img[i:i+2, j:j+2])\n",
        " \n",
        "print(pooling_img[0:5,0:5])\n",
        "\n",
        "print(\"\\nShape of the convolution result\", pooling_img.shape)\n",
        "\n",
        "#plt.axis('off')\n",
        "plt.title('THE DOG') \n",
        "plt.imshow(pooling_img)  \n",
        "plt.show() "
      ],
      "execution_count": null,
      "outputs": [
        {
          "output_type": "stream",
          "text": [
            "[[ 98. 112.  93. 195. 173.]\n",
            " [ 84. 127. 137. 253. 254.]\n",
            " [ 85. 145. 225. 255. 242.]\n",
            " [104. 178. 216. 230. 242.]\n",
            " [ 95. 186. 147. 248. 242.]]\n",
            "\n",
            "Shape of the convolution result (15, 15)\n"
          ],
          "name": "stdout"
        },
        {
          "output_type": "display_data",
          "data": {
            "image/png": "[encoded data removed]",
            "text/plain": [
              "<Figure size 432x288 with 1 Axes>"
            ]
          },
          "metadata": {
            "tags": [],
            "needs_background": "light"
          }
        }
      ]
    },
    {
      "cell_type": "markdown",
      "metadata": {
        "id": "V-RCMC6t-fac"
      },
      "source": [
        "## 2 - Convolution Neural Network ##\n",
        " \n",
        "Use LeNet-5 (LeCun et al., 1998), one of representative deep nueral networks, to solve a  classification problem with Fashion MNIST benchmark.\n",
        "\n",
        "### 2.1 Library Preparation\n",
        "\n",
        "Import useful deep learning packages. \n"
      ]
    },
    {
      "cell_type": "code",
      "metadata": {
        "id": "CIap-clH-fac"
      },
      "source": [
        "import numpy as np\n",
        "import tensorflow as tf\n",
        "from tensorflow import keras\n",
        "from tensorflow.keras import layers\n",
        "from tensorflow.keras import regularizers\n",
        "from matplotlib import pyplot\n",
        "import matplotlib.pyplot as plt"
      ],
      "execution_count": null,
      "outputs": []
    },
    {
      "cell_type": "markdown",
      "metadata": {
        "id": "IxyFywwG-fae"
      },
      "source": [
        "### 2.2 Training Data Preparation\n",
        "\n",
        "Import useful packages and prepare Fashion MNIST data.\n",
        "\n",
        "**Tasks:**\n",
        "1. Download Fashion MNIST data and split it with keras and prepare training/test data sets.\n",
        "2. Preprocess training/test data with normalization, dimension extension, and padding (for LeNet-5 configuration).\n",
        "3. Preprocess label data to binary class matrices.\n",
        "4. Print out first image in training set and its correponding label index\n",
        "5. Print out the shape of total training data, the number of training samples, and the number of test samples.\n",
        "\n",
        "\n",
        "1. Load function from the reference link. https://keras.io/api/datasets/ It provides dataloader function which can tackle downloading and data splitting automatically.\n",
        "2. For label preprocessing, **keras.utils.to_categorical** to convert class vectors to binary class matrices. This conversion makes sure the label can match the format of prediction output from neural network.\n",
        "3. For image display, show the image and label **before dimension extension and label preprocessing**.\n",
        "\n",
        "- Fashion MNIST https://github.com/zalandoresearch/fashion-mnist\n"
      ]
    },
    {
      "cell_type": "code",
      "metadata": {
        "id": "ENC5CLHk-faf",
        "colab": {
          "base_uri": "https://localhost:8080/",
          "height": 319
        },
        "outputId": "ea5eafd6-4297-4fd3-9915-9ccf3cedcaa3"
      },
      "source": [
        "# the data, split between train and test sets\n",
        "fashion_mnist = tf.keras.datasets.fashion_mnist\n",
        "\n",
        "#returns (x_train, y_train), (x_test, y_test)\n",
        "(x_train, y_train), (x_test, y_test) = fashion_mnist.load_data()\n",
        "\n",
        "# Model / data parameters\n",
        "num_classes = 10\n",
        "input_shape = (32, 32, 1)\n",
        "\n",
        "# Image Normalization (Scaling to [0, 1])\n",
        "x_train = x_train.astype(\"float32\") / 255\n",
        "x_test = x_test.astype(\"float32\") / 255\n",
        "\n",
        "# Print out first image and its correponding label index\n",
        "plt.figure()\n",
        "plt.imshow(x_train[0])\n",
        "plt.colorbar()\n",
        "plt.grid(False)\n",
        "plt.show()\n",
        "\n",
        "# Dimension extension to ensure that images have shape (28, 28, 1)\n",
        "x_train = np.expand_dims(x_train, -1)\n",
        "x_test = np.expand_dims(x_test, -1)\n",
        "\n",
        "# Conduct padding on training/test images to (32, 32, 1) for LeNet-5\n",
        "x_train = np.pad(x_train, ((0,0), (2,2), (2,2), (0,0)), 'constant')\n",
        "x_test = np.pad(x_test, ((0,0), (2,2), (2,2), (0,0)), 'constant')\n",
        "\n",
        "# Print out the training/test data shapes and the numbers of training/test samples\n",
        "print(\"x_train shape:\", x_train.shape)\n",
        "print(x_train.shape[0], \"train samples\")\n",
        "print(x_test.shape[0], \"test samples\")\n",
        "\n",
        "# convert label vectors to binary class matrices for training/test labels \n",
        "y_train = keras.utils.to_categorical(y_train, num_classes)\n",
        "y_test = keras.utils.to_categorical(y_test, num_classes)\n"
      ],
      "execution_count": null,
      "outputs": [
        {
          "output_type": "display_data",
          "data": {
            "image/png": "[encoded data removed]",
            "text/plain": [
              "<Figure size 432x288 with 2 Axes>"
            ]
          },
          "metadata": {
            "tags": [],
            "needs_background": "light"
          }
        },
        {
          "output_type": "stream",
          "text": [
            "x_train shape: (60000, 32, 32, 1)\n",
            "60000 train samples\n",
            "10000 test samples\n"
          ],
          "name": "stdout"
        }
      ]
    },
    {
      "cell_type": "markdown",
      "metadata": {
        "id": "G0sisvfc-fai"
      },
      "source": [
        "### 2.2 LeNet-5 \n",
        "\n",
        "Construct LeNet-5 as learning model for Fashion MNIST classification task. \n",
        "\n",
        "**Tasks:**\n",
        "1. Build up LeNet-5 with keras.Sequential\n",
        "2. Print out the **model summary**.\n",
        "\n",
        "- http://yann.lecun.com/exdb/lenet/\n"
      ]
    },
    {
      "cell_type": "code",
      "metadata": {
        "id": "iKIcjQsY-faj",
        "colab": {
          "base_uri": "https://localhost:8080/"
        },
        "outputId": "cc09c823-42bb-4b5a-bc22-61fe1278d919"
      },
      "source": [
        "### Construct LeNet-5 and Print out Model Summary\n",
        "model = keras.Sequential(   \n",
        "    [\n",
        "        keras.Input(shape=input_shape),\n",
        "        layers.Conv2D(6, kernel_size=(5, 5), kernel_regularizer=regularizers.l2(4e-5), activation=\"relu\"),\n",
        "        layers.MaxPooling2D(pool_size=(2, 2)),\n",
        "        layers.Conv2D(16, kernel_size=(5, 5), kernel_regularizer=regularizers.l2(4e-5), activation=\"relu\"),\n",
        "        layers.MaxPooling2D(pool_size=(2, 2)),\n",
        "        layers.Flatten(),\n",
        "        #layers.Dropout(0.5),\n",
        "        layers.Dense(120, kernel_regularizer=regularizers.l2(4e-5), activation=\"relu\"),\n",
        "        layers.Dense(84, kernel_regularizer=regularizers.l2(4e-5), activation=\"relu\"),\n",
        "        layers.Dense(10, kernel_regularizer=regularizers.l2(4e-5), activation=\"softmax\")\n",
        "    ]\n",
        ")\n",
        "\n",
        "model.summary()"
      ],
      "execution_count": null,
      "outputs": [
        {
          "output_type": "stream",
          "text": [
            "Model: \"sequential_5\"\n",
            "_________________________________________________________________\n",
            "Layer (type)                 Output Shape              Param #   \n",
            "=================================================================\n",
            "conv2d_10 (Conv2D)           (None, 28, 28, 6)         156       \n",
            "_________________________________________________________________\n",
            "max_pooling2d_10 (MaxPooling (None, 14, 14, 6)         0         \n",
            "_________________________________________________________________\n",
            "conv2d_11 (Conv2D)           (None, 10, 10, 16)        2416      \n",
            "_________________________________________________________________\n",
            "max_pooling2d_11 (MaxPooling (None, 5, 5, 16)          0         \n",
            "_________________________________________________________________\n",
            "flatten_5 (Flatten)          (None, 400)               0         \n",
            "_________________________________________________________________\n",
            "dense_13 (Dense)             (None, 120)               48120     \n",
            "_________________________________________________________________\n",
            "dense_14 (Dense)             (None, 84)                10164     \n",
            "_________________________________________________________________\n",
            "dense_15 (Dense)             (None, 10)                850       \n",
            "=================================================================\n",
            "Total params: 61,706\n",
            "Trainable params: 61,706\n",
            "Non-trainable params: 0\n",
            "_________________________________________________________________\n"
          ],
          "name": "stdout"
        }
      ]
    },
    {
      "cell_type": "markdown",
      "metadata": {
        "id": "nxHbmWnZ-fam"
      },
      "source": [
        "### 2.3 LeNet-5 Model Training\n",
        "\n",
        "Train LeNet-5 model with specific training strategy. \n",
        "\n",
        "**Tasks:**\n",
        "1. Set batch size to **64** for training. \n",
        "2. Pick **SGD optimizer** with learning rate of **0.1**, learning rate decay of **4e-5** (i.e., decay=4e-5), momentum of **0.9**, and **nesterov=True**, for model training.\n",
        "3. Pick **cross-entropy** loss function for optimization and evaluation metrics is set to **accuracy**.\n",
        "4. Set validation_split to **0.1** which means it excludes 1/10 training data for validation process.\n",
        "4. Train the model with **10 epochs**.\n",
        "5. Evaluate model with test data set and print out **test loss** and **test accuracy**.\n",
        "\n",
        "Keras to specify optimizer parameters. https://keras.io/api/optimizers/\n",
        "\n",
        "Validation accuracy is above **87%**."
      ]
    },
    {
      "cell_type": "code",
      "metadata": {
        "id": "DqCR6Nna-fam",
        "colab": {
          "base_uri": "https://localhost:8080/",
          "height": 648
        },
        "outputId": "2f5a687f-32a0-4cfd-87d4-70b901df654d"
      },
      "source": [
        "### Train with SGD optimizer with learning rate =0.1, regularizer=4e-5, momentum=0.9, and nesterov=True\n",
        "batch = 64\n",
        "epochs = 10\n",
        "\n",
        "optimizer = tf.keras.optimizers.SGD(learning_rate=0.1, momentum=0.9, nesterov=True)\n",
        "\n",
        "model.compile(\n",
        "    loss=\"categorical_crossentropy\", \n",
        "    optimizer=optimizer, \n",
        "    metrics=[\"accuracy\"]\n",
        ")\n",
        "\n",
        "history = model.fit(x_train, y_train, batch_size=batch, epochs=epochs, validation_split=0.1)\n",
        "\n",
        "# list all data in history\n",
        "print(history.history.keys())\n",
        "\n",
        "# summarize history for loss\n",
        "plt.plot(history.history['loss'])\n",
        "plt.plot(history.history['val_loss'])\n",
        "plt.title('model loss')\n",
        "plt.ylabel('loss')\n",
        "plt.xlabel('epoch')\n",
        "plt.legend(['train', 'test'], loc='upper right')\n",
        "plt.show()"
      ],
      "execution_count": null,
      "outputs": [
        {
          "output_type": "stream",
          "text": [
            "Epoch 1/10\n",
            "844/844 [==============================] - 3s 4ms/step - loss: 0.5860 - accuracy: 0.7967 - val_loss: 0.4234 - val_accuracy: 0.8510\n",
            "Epoch 2/10\n",
            "844/844 [==============================] - 3s 4ms/step - loss: 0.4275 - accuracy: 0.8539 - val_loss: 0.4235 - val_accuracy: 0.8620\n",
            "Epoch 3/10\n",
            "844/844 [==============================] - 3s 4ms/step - loss: 0.4075 - accuracy: 0.8615 - val_loss: 0.4280 - val_accuracy: 0.8585\n",
            "Epoch 4/10\n",
            "844/844 [==============================] - 3s 4ms/step - loss: 0.3954 - accuracy: 0.8664 - val_loss: 0.4707 - val_accuracy: 0.8507\n",
            "Epoch 5/10\n",
            "844/844 [==============================] - 3s 4ms/step - loss: 0.3893 - accuracy: 0.8700 - val_loss: 0.4170 - val_accuracy: 0.8703\n",
            "Epoch 6/10\n",
            "844/844 [==============================] - 3s 4ms/step - loss: 0.3810 - accuracy: 0.8743 - val_loss: 0.4015 - val_accuracy: 0.8737\n",
            "Epoch 7/10\n",
            "844/844 [==============================] - 3s 4ms/step - loss: 0.3817 - accuracy: 0.8748 - val_loss: 0.4315 - val_accuracy: 0.8682\n",
            "Epoch 8/10\n",
            "844/844 [==============================] - 3s 4ms/step - loss: 0.3756 - accuracy: 0.8760 - val_loss: 0.4000 - val_accuracy: 0.8718\n",
            "Epoch 9/10\n",
            "844/844 [==============================] - 3s 4ms/step - loss: 0.3702 - accuracy: 0.8789 - val_loss: 0.4258 - val_accuracy: 0.8563\n",
            "Epoch 10/10\n",
            "844/844 [==============================] - 3s 4ms/step - loss: 0.3667 - accuracy: 0.8809 - val_loss: 0.3981 - val_accuracy: 0.8727\n",
            "dict_keys(['loss', 'accuracy', 'val_loss', 'val_accuracy'])\n"
          ],
          "name": "stdout"
        },
        {
          "output_type": "display_data",
          "data": {
            "image/png": "[encoded data removed]",
            "text/plain": [
              "<Figure size 432x288 with 1 Axes>"
            ]
          },
          "metadata": {
            "tags": [],
            "needs_background": "light"
          }
        }
      ]
    },
    {
      "cell_type": "code",
      "metadata": {
        "id": "-8SQMPCd-fao",
        "colab": {
          "base_uri": "https://localhost:8080/"
        },
        "outputId": "a41d8bfc-c008-4c17-fffe-9d4d92a2ae61"
      },
      "source": [
        "### Print out the evaluation results, including test loss and test accuracy.\n",
        "score = model.evaluate(x_test, y_test, verbose=0)\n",
        "print(\"Test loss:\", score[0]*100)\n",
        "print(\"Test accuracy:\", score[1]*100)\n"
      ],
      "execution_count": null,
      "outputs": [
        {
          "output_type": "stream",
          "text": [
            "Test loss: 41.876572370529175\n",
            "Test accuracy: 86.84999942779541\n"
          ],
          "name": "stdout"
        }
      ]
    },
    {
      "cell_type": "markdown",
      "metadata": {
        "id": "PoeIwg_e-far"
      },
      "source": [
        "### 2.4 Different Training Schemes\n",
        "\n",
        "Train LeNet-5 model with different strategies.\n",
        "\n",
        "**Tasks:**\n",
        "1. Set batch size to **128** \n",
        "2. Set optimizer to **Adam** (optimizer=\"adam\") a\n",
        "3. Change learning rate to **0.05** "
      ]
    },
    {
      "cell_type": "markdown",
      "metadata": {
        "id": "WNQA4E7Q-fas"
      },
      "source": [
        "**First graph**\n"
      ]
    },
    {
      "cell_type": "code",
      "metadata": {
        "id": "Di6svLHhaY1w",
        "colab": {
          "base_uri": "https://localhost:8080/",
          "height": 682
        },
        "outputId": "af40646d-b398-429e-bd1a-c0654da0d316"
      },
      "source": [
        "batch = 128\n",
        "epochs = 10\n",
        "\n",
        "optimizer = tf.keras.optimizers.SGD(learning_rate=0.1, decay=4e-5, momentum=0.9, nesterov=True)\n",
        "\n",
        "model.compile(\n",
        "    loss=\"categorical_crossentropy\", \n",
        "    optimizer=optimizer, \n",
        "    metrics=[\"accuracy\"]\n",
        ")\n",
        "\n",
        "history = model.fit(x_train, y_train, batch_size=batch, epochs=epochs, validation_split=0.1)\n",
        "\n",
        "# list all data in history\n",
        "print(history.history.keys())\n",
        "\n",
        "# summarize history for loss\n",
        "plt.plot(history.history['loss'])\n",
        "plt.plot(history.history['val_loss'])\n",
        "plt.title('model loss')\n",
        "plt.ylabel('loss')\n",
        "plt.xlabel('epoch')\n",
        "plt.legend(['train', 'test'], loc='upper right')\n",
        "plt.show()\n",
        "\n",
        "score = model.evaluate(x_test, y_test, verbose=0)\n",
        "print(\"Test loss:\", score[0]*100)\n",
        "print(\"Test accuracy:\", score[1]*100)"
      ],
      "execution_count": null,
      "outputs": [
        {
          "output_type": "stream",
          "text": [
            "Epoch 1/10\n",
            "422/422 [==============================] - 2s 5ms/step - loss: 0.3118 - accuracy: 0.8990 - val_loss: 0.3687 - val_accuracy: 0.8825\n",
            "Epoch 2/10\n",
            "422/422 [==============================] - 2s 4ms/step - loss: 0.2952 - accuracy: 0.9046 - val_loss: 0.3689 - val_accuracy: 0.8837\n",
            "Epoch 3/10\n",
            "422/422 [==============================] - 2s 4ms/step - loss: 0.2856 - accuracy: 0.9065 - val_loss: 0.3770 - val_accuracy: 0.8872\n",
            "Epoch 4/10\n",
            "422/422 [==============================] - 2s 4ms/step - loss: 0.2767 - accuracy: 0.9102 - val_loss: 0.3620 - val_accuracy: 0.8880\n",
            "Epoch 5/10\n",
            "422/422 [==============================] - 2s 4ms/step - loss: 0.2719 - accuracy: 0.9106 - val_loss: 0.3820 - val_accuracy: 0.8873\n",
            "Epoch 6/10\n",
            "422/422 [==============================] - 2s 4ms/step - loss: 0.2646 - accuracy: 0.9133 - val_loss: 0.3729 - val_accuracy: 0.8860\n",
            "Epoch 7/10\n",
            "422/422 [==============================] - 2s 4ms/step - loss: 0.2608 - accuracy: 0.9156 - val_loss: 0.3758 - val_accuracy: 0.8885\n",
            "Epoch 8/10\n",
            "422/422 [==============================] - 2s 4ms/step - loss: 0.2557 - accuracy: 0.9180 - val_loss: 0.3761 - val_accuracy: 0.8835\n",
            "Epoch 9/10\n",
            "422/422 [==============================] - 2s 4ms/step - loss: 0.2523 - accuracy: 0.9185 - val_loss: 0.3849 - val_accuracy: 0.8865\n",
            "Epoch 10/10\n",
            "422/422 [==============================] - 2s 4ms/step - loss: 0.2487 - accuracy: 0.9204 - val_loss: 0.3942 - val_accuracy: 0.8835\n",
            "dict_keys(['loss', 'accuracy', 'val_loss', 'val_accuracy'])\n"
          ],
          "name": "stdout"
        },
        {
          "output_type": "display_data",
          "data": {
            "image/png": "[encoded data removed]",
            "text/plain": [
              "<Figure size 432x288 with 1 Axes>"
            ]
          },
          "metadata": {
            "tags": [],
            "needs_background": "light"
          }
        },
        {
          "output_type": "stream",
          "text": [
            "Test loss: 40.44276475906372\n",
            "Test accuracy: 87.6800000667572\n"
          ],
          "name": "stdout"
        }
      ]
    },
    {
      "cell_type": "markdown",
      "metadata": {
        "id": "eM1Bqb_p-fas"
      },
      "source": [
        "**Second graph**"
      ]
    },
    {
      "cell_type": "code",
      "metadata": {
        "id": "EDJElMOeaz2A",
        "colab": {
          "base_uri": "https://localhost:8080/",
          "height": 682
        },
        "outputId": "033ddc19-e1ed-4c96-aa8c-1dec84e2c065"
      },
      "source": [
        "batch = 64\n",
        "epochs = 10\n",
        "\n",
        "model.compile(\n",
        "    loss=\"categorical_crossentropy\", \n",
        "    optimizer=\"adam\", \n",
        "    metrics=[\"accuracy\"]\n",
        ")\n",
        "\n",
        "history = model.fit(x_train, y_train, batch_size=batch, epochs=epochs, validation_split=0.1)\n",
        "\n",
        "# list all data in history\n",
        "print(history.history.keys())\n",
        "\n",
        "# summarize history for loss\n",
        "plt.plot(history.history['loss'])\n",
        "plt.plot(history.history['val_loss'])\n",
        "plt.title('model loss')\n",
        "plt.ylabel('loss')\n",
        "plt.xlabel('epoch')\n",
        "plt.legend(['train', 'test'], loc='upper right')\n",
        "plt.show()\n",
        "\n",
        "score = model.evaluate(x_test, y_test, verbose=0)\n",
        "print(\"Test loss:\", score[0]*100)\n",
        "print(\"Test accuracy:\", score[1]*100)"
      ],
      "execution_count": null,
      "outputs": [
        {
          "output_type": "stream",
          "text": [
            "Epoch 1/10\n",
            "844/844 [==============================] - 3s 4ms/step - loss: 0.2109 - accuracy: 0.9341 - val_loss: 0.3763 - val_accuracy: 0.8960\n",
            "Epoch 2/10\n",
            "844/844 [==============================] - 3s 4ms/step - loss: 0.1947 - accuracy: 0.9405 - val_loss: 0.3868 - val_accuracy: 0.8948\n",
            "Epoch 3/10\n",
            "844/844 [==============================] - 3s 4ms/step - loss: 0.1857 - accuracy: 0.9441 - val_loss: 0.4014 - val_accuracy: 0.8893\n",
            "Epoch 4/10\n",
            "844/844 [==============================] - 3s 4ms/step - loss: 0.1801 - accuracy: 0.9466 - val_loss: 0.4119 - val_accuracy: 0.8903\n",
            "Epoch 5/10\n",
            "844/844 [==============================] - 3s 4ms/step - loss: 0.1723 - accuracy: 0.9496 - val_loss: 0.4337 - val_accuracy: 0.8933\n",
            "Epoch 6/10\n",
            "844/844 [==============================] - 3s 4ms/step - loss: 0.1651 - accuracy: 0.9536 - val_loss: 0.4538 - val_accuracy: 0.8890\n",
            "Epoch 7/10\n",
            "844/844 [==============================] - 3s 4ms/step - loss: 0.1609 - accuracy: 0.9557 - val_loss: 0.4573 - val_accuracy: 0.8878\n",
            "Epoch 8/10\n",
            "844/844 [==============================] - 3s 4ms/step - loss: 0.1555 - accuracy: 0.9574 - val_loss: 0.4893 - val_accuracy: 0.8880\n",
            "Epoch 9/10\n",
            "844/844 [==============================] - 3s 4ms/step - loss: 0.1528 - accuracy: 0.9587 - val_loss: 0.4805 - val_accuracy: 0.8857\n",
            "Epoch 10/10\n",
            "844/844 [==============================] - 3s 4ms/step - loss: 0.1467 - accuracy: 0.9616 - val_loss: 0.5009 - val_accuracy: 0.8867\n",
            "dict_keys(['loss', 'accuracy', 'val_loss', 'val_accuracy'])\n"
          ],
          "name": "stdout"
        },
        {
          "output_type": "display_data",
          "data": {
            "image/png": "[encoded data removed]",
            "text/plain": [
              "<Figure size 432x288 with 1 Axes>"
            ]
          },
          "metadata": {
            "tags": [],
            "needs_background": "light"
          }
        },
        {
          "output_type": "stream",
          "text": [
            "Test loss: 52.08190679550171\n",
            "Test accuracy: 88.40000033378601\n"
          ],
          "name": "stdout"
        }
      ]
    },
    {
      "cell_type": "markdown",
      "metadata": {
        "id": "GumBqa94-fat"
      },
      "source": [
        "**Third graph**"
      ]
    },
    {
      "cell_type": "code",
      "metadata": {
        "id": "FVxprg5say7o",
        "colab": {
          "base_uri": "https://localhost:8080/",
          "height": 682
        },
        "outputId": "4a9bfb49-2606-4bf9-b6fd-3f11ed557702"
      },
      "source": [
        "batch = 64\n",
        "epochs = 10\n",
        "\n",
        "optimizer = tf.keras.optimizers.SGD(learning_rate=0.05, decay=4e-5, momentum=0.9, nesterov=True)\n",
        "\n",
        "model.compile(\n",
        "    loss=\"categorical_crossentropy\", \n",
        "    optimizer=optimizer, \n",
        "    metrics=[\"accuracy\"]\n",
        ")\n",
        "\n",
        "history = model.fit(x_train, y_train, batch_size=batch, epochs=epochs, validation_split=0.1)\n",
        "\n",
        "# list all data in history\n",
        "print(history.history.keys())\n",
        "\n",
        "# summarize history for loss\n",
        "plt.plot(history.history['loss'])\n",
        "plt.plot(history.history['val_loss'])\n",
        "plt.title('model loss')\n",
        "plt.ylabel('loss')\n",
        "plt.xlabel('epoch')\n",
        "plt.legend(['train', 'test'], loc='upper right')\n",
        "plt.show()\n",
        "\n",
        "score = model.evaluate(x_test, y_test, verbose=0)\n",
        "print(\"Test loss:\", score[0]*100)\n",
        "print(\"Test accuracy:\", score[1]*100)"
      ],
      "execution_count": null,
      "outputs": [
        {
          "output_type": "stream",
          "text": [
            "Epoch 1/10\n",
            "844/844 [==============================] - 3s 4ms/step - loss: 0.2899 - accuracy: 0.9094 - val_loss: 0.4572 - val_accuracy: 0.8805\n",
            "Epoch 2/10\n",
            "844/844 [==============================] - 3s 4ms/step - loss: 0.2644 - accuracy: 0.9172 - val_loss: 0.4304 - val_accuracy: 0.8812\n",
            "Epoch 3/10\n",
            "844/844 [==============================] - 3s 4ms/step - loss: 0.2536 - accuracy: 0.9216 - val_loss: 0.4151 - val_accuracy: 0.8883\n",
            "Epoch 4/10\n",
            "844/844 [==============================] - 3s 4ms/step - loss: 0.2425 - accuracy: 0.9251 - val_loss: 0.4442 - val_accuracy: 0.8812\n",
            "Epoch 5/10\n",
            "844/844 [==============================] - 3s 4ms/step - loss: 0.2387 - accuracy: 0.9279 - val_loss: 0.4411 - val_accuracy: 0.8808\n",
            "Epoch 6/10\n",
            "844/844 [==============================] - 3s 4ms/step - loss: 0.2341 - accuracy: 0.9304 - val_loss: 0.4375 - val_accuracy: 0.8850\n",
            "Epoch 7/10\n",
            "844/844 [==============================] - 3s 4ms/step - loss: 0.2227 - accuracy: 0.9347 - val_loss: 0.4517 - val_accuracy: 0.8825\n",
            "Epoch 8/10\n",
            "844/844 [==============================] - 3s 4ms/step - loss: 0.2223 - accuracy: 0.9351 - val_loss: 0.4602 - val_accuracy: 0.8765\n",
            "Epoch 9/10\n",
            "844/844 [==============================] - 3s 4ms/step - loss: 0.2181 - accuracy: 0.9372 - val_loss: 0.4497 - val_accuracy: 0.8850\n",
            "Epoch 10/10\n",
            "844/844 [==============================] - 3s 4ms/step - loss: 0.2187 - accuracy: 0.9367 - val_loss: 0.4580 - val_accuracy: 0.8818\n",
            "dict_keys(['loss', 'accuracy', 'val_loss', 'val_accuracy'])\n"
          ],
          "name": "stdout"
        },
        {
          "output_type": "display_data",
          "data": {
            "image/png": "[encoded data removed]",
            "text/plain": [
              "<Figure size 432x288 with 1 Axes>"
            ]
          },
          "metadata": {
            "tags": [],
            "needs_background": "light"
          }
        },
        {
          "output_type": "stream",
          "text": [
            "Test loss: 48.62546920776367\n",
            "Test accuracy: 87.37000226974487\n"
          ],
          "name": "stdout"
        }
      ]
    }
  ]
}